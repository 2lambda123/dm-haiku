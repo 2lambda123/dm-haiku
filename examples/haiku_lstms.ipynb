{
  "nbformat": 4,
  "nbformat_minor": 0,
  "metadata": {
    "colab": {
      "name": "haiku-lstms.ipynb",
      "provenance": []
    },
    "kernelspec": {
      "name": "python3",
      "display_name": "Python 3"
    }
  },
  "cells": [
    {
      "cell_type": "markdown",
      "metadata": {
        "id": "1SnEBBpYsOhK",
        "colab_type": "text"
      },
      "source": [
        "Copyright 2020 DeepMind Technologies Limited. All Rights Reserved.\n",
        "\n",
        "Licensed under the Apache License, Version 2.0 (the \"License\");"
      ]
    },
    {
      "cell_type": "code",
      "metadata": {
        "id": "97PCCHRrsi8k",
        "colab_type": "code",
        "cellView": "form",
        "colab": {}
      },
      "source": [
        "#@title Full license text\n",
        "# Licensed under the Apache License, Version 2.0 (the \"License\");\n",
        "# you may not use this file except in compliance with the License.\n",
        "# You may obtain a copy of the License at\n",
        "# \n",
        "#     http://www.apache.org/licenses/LICENSE-2.0\n",
        "# \n",
        "# Unless required by applicable law or agreed to in writing, software\n",
        "# distributed under the License is distributed on an \"AS IS\" BASIS,\n",
        "# WITHOUT WARRANTIES OR CONDITIONS OF ANY KIND, either express or implied.\n",
        "# See the License for the specific language governing permissions and\n",
        "# limitations under the License."
      ],
      "execution_count": 0,
      "outputs": []
    },
    {
      "cell_type": "markdown",
      "metadata": {
        "id": "tHpX8QhAhilt",
        "colab_type": "text"
      },
      "source": [
        "# LSTMs in Haiku\n",
        "\n",
        "**[Haiku](https://github.com/deepmind/dm-haiku) is a simple neural network library for [JAX](https://github.com/google/jax).**\n",
        "\n",
        "This notebook walks through a simple LSTM in JAX with Haiku.\n",
        "\n",
        "For first-time Haiku users, we recommend that you first check out out our [Quickstart](https://github.com/deepmind/dm-haiku#quickstart) and [MNIST example](https://github.com/deepmind/dm-haiku/blob/master/examples/mnist.py) first."
      ]
    },
    {
      "cell_type": "markdown",
      "metadata": {
        "id": "tZQ5MRaBiSAC",
        "colab_type": "text"
      },
      "source": [
        "## Setup"
      ]
    },
    {
      "cell_type": "code",
      "metadata": {
        "id": "JblB4wS7iJVa",
        "colab_type": "code",
        "colab": {}
      },
      "source": [
        "!pip install git+https://github.com/deepmind/dm-haiku"
      ],
      "execution_count": 0,
      "outputs": []
    },
    {
      "cell_type": "code",
      "metadata": {
        "id": "1lGChhE1hPYW",
        "colab_type": "code",
        "colab": {}
      },
      "source": [
        "import functools\n",
        "import math\n",
        "\n",
        "import haiku as hk\n",
        "import jax\n",
        "import jax.numpy as jnp\n",
        "from jax.experimental import optix\n",
        "import numpy as np\n",
        "import pandas as pd"
      ],
      "execution_count": 0,
      "outputs": []
    },
    {
      "cell_type": "markdown",
      "metadata": {
        "id": "_gNhADeoiVAY",
        "colab_type": "text"
      },
      "source": [
        "## Generating Data\n",
        "\n",
        "In this notebook, we generate many sine waves (of the same period), and try to predict the next value in the wave based on its previous values.\n",
        "\n",
        "For simplicity, we generate static-sized datasets and wrap them with an iterator-based API."
      ]
    },
    {
      "cell_type": "code",
      "metadata": {
        "id": "j7aLjpFKiT2s",
        "colab_type": "code",
        "colab": {}
      },
      "source": [
        "def sine_seq(base, seq_len, samples_per_cycle):\n",
        "  \"\"\"Returns x,y in [T, B] tensor.\"\"\"\n",
        "  t = np.arange(seq_len + 1) * (2 * math.pi / samples_per_cycle)\n",
        "  t = t.reshape([-1, 1]) + base\n",
        "  sine_t = np.sin(t)\n",
        "  return sine_t[:-1, :], sine_t[1:, :]\n",
        "\n",
        "def generate_data(seq_len, train_size, valid_size):\n",
        "  base_vals = np.random.uniform(0., 2 * math.pi, [train_size + valid_size])\n",
        "  all_x, all_y = sine_seq(base_vals, seq_len, 3 * seq_len / 4)\n",
        "  \n",
        "  all_x = np.expand_dims(all_x, -1)\n",
        "  all_y = np.expand_dims(all_y, -1)\n",
        "  train_x = all_x[:, :train_size]\n",
        "  train_y = all_y[:, :train_size]\n",
        "  \n",
        "  valid_x = all_x[:, train_size:]\n",
        "  valid_y = all_y[:, train_size:]\n",
        "\n",
        "  return (train_x, train_y), (valid_x, valid_y)\n",
        "\n",
        "class Dataset:\n",
        "  \"\"\"An iterator over a numpy array, revealing batch_size elements at a time.\"\"\"\n",
        "  def __init__(self, xy, batch_size):\n",
        "    self._x, self._y = xy\n",
        "    self._batch_size = batch_size\n",
        "    self._length = self._x.shape[1]\n",
        "    self._idx = 0\n",
        "    if self._length % batch_size != 0:\n",
        "      msg = 'dataset size {} must be divisible by batch_size {}.'\n",
        "      raise ValueError(msg.format(self._length, batch_size))\n",
        "  \n",
        "  def __next__(self):\n",
        "    start = self._idx\n",
        "    end = start + self._batch_size\n",
        "    x, y = self._x[:, start:end], self._y[:, start:end]\n",
        "    if end >= self._length:\n",
        "      end = end % self._length\n",
        "      assert end == 0  # Guaranteed by ctor assertion.\n",
        "    self._idx = end\n",
        "    return x, y"
      ],
      "execution_count": 0,
      "outputs": []
    },
    {
      "cell_type": "code",
      "metadata": {
        "id": "Av3gipvVi_49",
        "colab_type": "code",
        "colab": {}
      },
      "source": [
        "TRAIN_SIZE = 2 ** 14\n",
        "VALID_SIZE = 128\n",
        "BATCH_SIZE = 8\n",
        "SEQ_LEN = 64\n",
        "\n",
        "train, valid = generate_data(SEQ_LEN, TRAIN_SIZE, VALID_SIZE)\n",
        "# Plot an observation/target pair.\n",
        "pd.DataFrame(train[0][:, 0]).plot(title=\"x\")\n",
        "pd.DataFrame(train[1][:, 0]).plot(title=\"y\")\n",
        "train_ds = Dataset(train, BATCH_SIZE)\n",
        "valid_ds = Dataset(valid, BATCH_SIZE)\n",
        "del train, valid  # Don't leak temporaries."
      ],
      "execution_count": 0,
      "outputs": []
    },
    {
      "cell_type": "markdown",
      "metadata": {
        "id": "LZGw5Jdvjmqh",
        "colab_type": "text"
      },
      "source": [
        "## Training an LSTM\n",
        "\n",
        "To train the LSTM, we define a Haiku function which unrolls the LSTM over the input sequence, generating predictions for all output values. The LSTM always starts with its initial state at the start of the sequence.\n",
        "\n",
        "The Haiku function is then transformed into a pure function through `hk.transform`, and is trained with Adam on an L2 prediction loss."
      ]
    },
    {
      "cell_type": "code",
      "metadata": {
        "id": "nacnTj5ejIK5",
        "colab_type": "code",
        "colab": {}
      },
      "source": [
        "def unroll_net(seqs):\n",
        "  \"\"\"Unrolls an LSTM over seqs, mapping each output to a scalar.\"\"\"\n",
        "  # seqs is [T, B, F].\n",
        "  core = hk.LSTM(32)\n",
        "  batch_size = seqs.shape[1]\n",
        "  outs, state = hk.dynamic_unroll(core, seqs, core.initial_state(batch_size))\n",
        "  # We could include this Linear as part of the recurrent core!\n",
        "  # However, it's more efficient on modern accelerators to run the linear once\n",
        "  # over the entire sequence than once per sequence element.\n",
        "  return hk.BatchApply(hk.Linear(1))(outs), state\n",
        "\n",
        "model = hk.transform(unroll_net, apply_rng=True)\n",
        "\n",
        "def train_model(train_ds, valid_ds):\n",
        "  \"\"\"Initializes and trains a model on train_ds, returning the final params.\"\"\"\n",
        "  rng = jax.random.PRNGKey(428)\n",
        "  opt = optix.adam(1e-3)\n",
        "  \n",
        "  @jax.jit\n",
        "  def loss(params, x, y):\n",
        "    pred, _ = model.apply(params, None, x)\n",
        "    return jnp.mean(jnp.square(pred - y))\n",
        "  \n",
        "  @jax.jit\n",
        "  def update(step, params, opt_state, x, y):\n",
        "    l, grads = jax.value_and_grad(loss)(params, x, y)\n",
        "    grads, opt_state = opt.update(grads, opt_state)\n",
        "    params = optix.apply_updates(params, grads)\n",
        "    return l, params, opt_state\n",
        "  \n",
        "  # Initialize state.\n",
        "  sample_x, _ = next(train_ds)\n",
        "  params = model.init(rng, sample_x)\n",
        "  opt_state = opt.init(params)\n",
        "  \n",
        "  for step in range(2001):\n",
        "    if step % 100 == 0:\n",
        "      x, y = next(valid_ds)\n",
        "      print(\"Step {}: valid loss {}\".format(step, loss(params, x, y)))\n",
        "  \n",
        "    x, y = next(train_ds)\n",
        "    train_loss, params, opt_state = update(step, params, opt_state, x, y)\n",
        "    if step % 100 == 0:\n",
        "      print(\"Step {}: train loss {}\".format(step, train_loss))\n",
        "  \n",
        "  return params"
      ],
      "execution_count": 0,
      "outputs": []
    },
    {
      "cell_type": "code",
      "metadata": {
        "id": "AssgDctokbl5",
        "colab_type": "code",
        "colab": {}
      },
      "source": [
        "trained_params = train_model(train_ds, valid_ds)"
      ],
      "execution_count": 0,
      "outputs": []
    },
    {
      "cell_type": "markdown",
      "metadata": {
        "id": "yr7jrOL3ki-b",
        "colab_type": "text"
      },
      "source": [
        "## Sampling\n",
        "\n",
        "The point of training models is so that they can make predictions! How can we generate predictions with the trained model?\n",
        "\n",
        "If we're allowed to feed in the ground truth, we can just run the original model's `apply` function."
      ]
    },
    {
      "cell_type": "code",
      "metadata": {
        "id": "KOuK1egilGD0",
        "colab_type": "code",
        "colab": {}
      },
      "source": [
        "# Grab a sample from the validation set.\n",
        "sample_x, _ = next(valid_ds)\n",
        "sample_x = sample_x[:, :1]  # Shrink to batch-size 1.\n",
        "\n",
        "# Generate a prediction, feeding in ground truth at each point as input.\n",
        "predicted, _ = model.apply(trained_params, None, sample_x)\n",
        "pd.DataFrame(jnp.squeeze(predicted)).plot()\n",
        "del sample_x, predicted\n",
        "\n",
        "# Typically: the beginning of the predictions are a bit wonky, but the curve\n",
        "# quickly smoothes out."
      ],
      "execution_count": 0,
      "outputs": []
    },
    {
      "cell_type": "markdown",
      "metadata": {
        "id": "tDyGshz_lwrM",
        "colab_type": "text"
      },
      "source": [
        "If we can't feed in the ground truth (because we don't have it), we can also run the model autoregressively."
      ]
    },
    {
      "cell_type": "code",
      "metadata": {
        "id": "Cg8oQ75Ulvld",
        "colab_type": "code",
        "colab": {}
      },
      "source": [
        "def autoregressive_predict(trained_params, context, seq_len):\n",
        "  \"\"\"Given a context, autoregressively generate the rest of a sine wave.\"\"\"\n",
        "  ar_outs = []\n",
        "  context = jax.device_put(context)\n",
        "  for _ in range(seq_len - context.shape[0]):\n",
        "    full_context = jnp.concatenate([context] + ar_outs)\n",
        "    outs, _ = jax.jit(model.apply)(trained_params, None, full_context)\n",
        "    # Append the newest prediction to ar_outs.\n",
        "    ar_outs.append(outs[-1:])\n",
        "  # Return the final full prediction.\n",
        "  return outs\n",
        "\n",
        "sample_x, _ = next(valid_ds)\n",
        "context_length = SEQ_LEN // 8\n",
        "# Cut the batch-size 1 context from the start of the sequence.\n",
        "context = sample_x[:context_length, :1]\n",
        "\n",
        "# We can reuse params we got from training for inference - as long as the\n",
        "# declaration order is the same.\n",
        "predicted = autoregressive_predict(trained_params, context, SEQ_LEN)\n",
        "pd.DataFrame(np.squeeze(predicted)).plot()\n",
        "del predicted"
      ],
      "execution_count": 0,
      "outputs": []
    },
    {
      "cell_type": "markdown",
      "metadata": {
        "id": "qGkr2gf2oALo",
        "colab_type": "text"
      },
      "source": [
        "### Sharing parameters with a different function.\n",
        "\n",
        "Unfortunately, this is a bit slow - we're doing O(N^2) computation for a sequence of length N.\n",
        "\n",
        "It'd be better if we could do the autoregressive sampling all at once - but we need to write a new Haiku function for that.\n",
        "\n",
        "We're in luck - if the Haiku module names match, the same parameters can be used for multiple Haiku functions.\n",
        "\n",
        "This can be achieved through a combination of two techniques:\n",
        "\n",
        "1. If we manually give a unique name to a module, we can ensure that the parameters are directed to the right places.\n",
        "2. If modules are instantiated in the same order, they'll have the same names in different functions.\n",
        "\n",
        "Here, we rely on method #2 to create a fast autoregressive prediction."
      ]
    },
    {
      "cell_type": "code",
      "metadata": {
        "id": "WdKcHr6_n_ba",
        "colab_type": "code",
        "colab": {}
      },
      "source": [
        "def fast_autoregressive_predict_fn(context, seq_len):\n",
        "  \"\"\"Given a context, autoregressively generate the rest of a sine wave.\"\"\"\n",
        "  core = hk.LSTM(32)\n",
        "  dense = hk.Linear(1)\n",
        "  state = core.initial_state(context.shape[1])\n",
        "  # Unroll over the context using `hk.dynamic_unroll`.\n",
        "  # As before, we `hk.BatchApply` the Linear for efficiency.\n",
        "  context_outs, state = hk.dynamic_unroll(core, context, state)\n",
        "  context_outs = hk.BatchApply(dense)(context_outs)\n",
        "\n",
        "  # Now, unroll one step at a time using the running recurrent state.\n",
        "  ar_outs = []\n",
        "  x = context_outs[-1]\n",
        "  for _ in range(seq_len - context.shape[0]):\n",
        "    x, state = core(x, state)\n",
        "    x = dense(x)\n",
        "    ar_outs.append(x)\n",
        "  return jnp.concatenate([context_outs, jnp.stack(ar_outs)])\n",
        "\n",
        "fast_ar_predict = hk.transform(fast_autoregressive_predict_fn, apply_rng=True)\n",
        "fast_ar_predict = jax.jit(fast_ar_predict.apply, static_argnums=3)\n",
        "# Reuse the same context from the previous cell.\n",
        "predicted = fast_ar_predict(trained_params, None, context, SEQ_LEN)\n",
        "# The plots should be equivalent!\n",
        "pd.DataFrame(np.squeeze(predicted)).plot()"
      ],
      "execution_count": 0,
      "outputs": []
    },
    {
      "cell_type": "code",
      "metadata": {
        "id": "9S0tkPXGrU3a",
        "colab_type": "code",
        "colab": {}
      },
      "source": [
        "%timeit autoregressive_predict(trained_params, context, SEQ_LEN)\n",
        "%timeit fast_ar_predict(trained_params, None, context, SEQ_LEN)"
      ],
      "execution_count": 0,
      "outputs": []
    }
  ]
}

