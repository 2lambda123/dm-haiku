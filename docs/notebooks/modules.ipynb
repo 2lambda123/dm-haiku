{
  "cells": [
    {
      "cell_type": "markdown",
      "metadata": {
        "id": "p2am8ROJEtrS"
      },
      "source": [
        "# Modules\n",
        "\n",
        "Haiku ships with many predefined modules (e.g. `hk.Linear`, `hk.Conv2D`, `hk.BatchNorm`) and some predefined networks of modules (e.g. `hk.nets.MLP`). If you can't find what you're looking for then we encourage you to subclass `hk.Module` and implement your ideas."
      ]
    }
  ],
  "metadata": {
    "colab": {
      "collapsed_sections": [],
      "name": "Haiku Modules",
      "provenance": [
        {
          "file_id": "1SYpfbVIs1_Fe3kgIZXfrQkVpSlKwjBsu",
          "timestamp": 1604473475829
        }
      ]
    },
    "kernelspec": {
      "display_name": "Python 3",
      "name": "python"
    }
  },
  "nbformat": 4,
  "nbformat_minor": 0
}
